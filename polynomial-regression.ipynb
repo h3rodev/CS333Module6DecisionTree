{
 "cells": [
  {
   "cell_type": "code",
   "execution_count": 2,
   "source": [
    "import numpy\n",
    "from sklearn.metrics import r2_score\n"
   ],
   "outputs": [],
   "metadata": {}
  },
  {
   "cell_type": "code",
   "execution_count": 3,
   "source": [
    "x = [59, 52, 44, 51, 42, 42, 41, 45, 27, 63, 54, 44, 50, 47]\n",
    "y = [56, 63, 55, 50, 66, 48, 58, 36, 13, 50, 81, 56, 64, 50]\n",
    "\n",
    "# x are test 1 data\n",
    "# y are test 2 data\n",
    "\n",
    "model = numpy.poly1d(numpy.polyfit(x, y, 8))\n",
    "\n",
    "test1 = model(46)\n",
    "\n",
    "print(\"Prediction\")\n",
    "print(test1)\n",
    "print(\".......................\")\n",
    "print(\"Prediction Score (%)\") \n",
    "print(r2_score(y, model(x)) )\n"
   ],
   "outputs": [
    {
     "output_type": "stream",
     "name": "stdout",
     "text": [
      "Prediction\n",
      "47.35399238020182\n",
      ".......................\n",
      "Prediction Score (%)\n",
      "0.8419995530691693\n"
     ]
    }
   ],
   "metadata": {}
  }
 ],
 "metadata": {
  "orig_nbformat": 4,
  "language_info": {
   "name": "python",
   "version": "3.6.13",
   "mimetype": "text/x-python",
   "codemirror_mode": {
    "name": "ipython",
    "version": 3
   },
   "pygments_lexer": "ipython3",
   "nbconvert_exporter": "python",
   "file_extension": ".py"
  },
  "kernelspec": {
   "name": "python3",
   "display_name": "Python 3.6.13 64-bit (conda)"
  },
  "interpreter": {
   "hash": "8fe7413cb9d6ee0fbabcf6b75bee5d0ee49a9e0be0d8a8087d2a0637fe19406b"
  }
 },
 "nbformat": 4,
 "nbformat_minor": 2
}